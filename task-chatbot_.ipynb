{
 "cells": [
  {
   "cell_type": "code",
   "execution_count": null,
   "id": "bac8a4b6",
   "metadata": {},
   "outputs": [
    {
     "name": "stdout",
     "output_type": "stream",
     "text": [
      "BOT:Hello! I'm a math bot.\n"
     ]
    }
   ],
   "source": [
    "print(\"BOT:Hello! I'm a math bot.\")\n",
    "user_input = input(\"USER:\")\n",
    "import math\n",
    "def math_bot():\n",
    "    while True:\n",
    "            # Get user input\n",
    "            print(\"BOT:What operation would you like me to perform? or You can quit my friend🫥🫥\"\n",
    "                 \"Addition\"\n",
    "                 \"Subtract\"\n",
    "                 )\n",
    "            user_input_1 = input(\"USER:\")\n",
    "\n",
    "            # Exit the loop if the user enters \"quit\"\n",
    "            if user_input_1 == \"quit\":\n",
    "                print(\"BOT:Goodbye!🥲🥲🥲🥲\")\n",
    "                break\n",
    "\n",
    "            print(\"BOT:Please enter the First operand\")    \n",
    "            operand1 = int(input(\"USER:\"))\n",
    "\n",
    "            print(\"BOT:Please enter the Second operand\")    \n",
    "            operand2 = int(input(\"USER:\"))\n",
    "\n",
    "            # Perform the appropriate operation and print the result\n",
    "            if user_input_1 == \"addition\" or user_input_1 == \"add\" :\n",
    "                result = operand1 + operand2\n",
    "                print(\"BOT:The sum of\", operand1, \"and\", operand2, \"is\", result)\n",
    "            elif user_input_1 == \"subtraction\" or user_input_1 == \"sub\" :\n",
    "                result = operand1 - operand2\n",
    "                print(\"BOT:The difference between\", operand1, \"and\", operand2, \"is\", result)\n",
    "            elif user_input_1 == \"multiplication\" or user_input_1 == \"multiply\":\n",
    "                result = operand1 * operand2\n",
    "                print(\"BOT:The product of\", operand1, \"and\", operand2, \"is\", result)\n",
    "            elif user_input_1 == \"division\" or user_input_1 == \"divide\":\n",
    "                if operand2 == 0:\n",
    "                    print(\"BOT:Cannot divide by zero!\")\n",
    "                else:\n",
    "                    result = operand1 / operand2\n",
    "                    print(\"BOT:The quotient of\", operand1, \"and\", operand2, \"is\", result)\n",
    "            elif user_input_1 == \"Power of\" or user_input_1 == \"power\":\n",
    "                result = operand1**operand2\n",
    "                print(\"BOT:The power of\", operand1, \"and\", operand2, \"is\", result)\n",
    "            elif user_input_1 == \"Square root\" or user_input_1 == \"square\":\n",
    "                result = pow(operand1, 1/operand2)\n",
    "                print(\"BOT:The square root of\", operand1, \"to the\", operand2, \"is\", result)\n",
    "            else:\n",
    "                print(\"BOT:Invalid operator. Please enter a valid operation\")\n",
    "            \n",
    "            \n",
    "            print(\"BOT:Do you want to continue?(yes/no)\")\n",
    "            opt = input(\"USER:\")\n",
    "            if opt == \"no\":\n",
    "                print(\"BOT:Thank you for using the Math Bot😁😁😁😁\")\n",
    "                break\n",
    "            else:\n",
    "                continue\n",
    "\n",
    "        \n",
    "# Call the chat bot function\n",
    "math_bot()"
   ]
  },
  {
   "cell_type": "code",
   "execution_count": null,
   "id": "6f80715d",
   "metadata": {},
   "outputs": [],
   "source": []
  }
 ],
 "metadata": {
  "kernelspec": {
   "display_name": "Python 3 (ipykernel)",
   "language": "python",
   "name": "python3"
  },
  "language_info": {
   "codemirror_mode": {
    "name": "ipython",
    "version": 3
   },
   "file_extension": ".py",
   "mimetype": "text/x-python",
   "name": "python",
   "nbconvert_exporter": "python",
   "pygments_lexer": "ipython3",
   "version": "3.9.7"
  }
 },
 "nbformat": 4,
 "nbformat_minor": 5
}
